{
 "cells": [
  {
   "cell_type": "code",
   "execution_count": 1,
   "id": "d64e3eed",
   "metadata": {},
   "outputs": [],
   "source": [
    "import pandas as pd\n",
    "from bs4 import BeautifulSoup as bs\n",
    "from selenium import webdriver\n",
    "from selenium.webdriver.chrome.options import Options\n",
    "import time\n",
    "from datetime import datetime\n",
    "from pathlib import Path\n",
    "import csv"
   ]
  },
  {
   "cell_type": "code",
   "execution_count": 2,
   "id": "17edc27b",
   "metadata": {},
   "outputs": [],
   "source": [
    "# Parcing online stats from Steam game url using Selenium\n",
    "def get_online_stats(url: str) -> tuple[str, int]:\n",
    "    try:\n",
    "        options = Options()\n",
    "        options.add_argument(\"--headless\")\n",
    "        driver = webdriver.Chrome(options=options)\n",
    "        driver.get(url)\n",
    "        time.sleep(3)\n",
    "        soup = bs(driver.page_source, \"html.parser\")\n",
    "    except Exception as e:\n",
    "        print(f\"Произошла ошибка: {e}\")\n",
    "    finally:\n",
    "        driver.quit()\n",
    "\n",
    "    game_name = str(soup.find('div', class_='apphub_AppDetails').find('div', class_='apphub_AppName ellipsis').text)\n",
    "    div_online_stats = soup.find('div', class_='apphub_Stats').find('span', class_='apphub_NumInApp')\n",
    "    online_stats = int(div_online_stats.text.replace(',','').replace(' в игре', ''))\n",
    "    print(f\"Name: {game_name}, Online: {online_stats}\")\n",
    "    \n",
    "    return game_name, online_stats"
   ]
  },
  {
   "cell_type": "code",
   "execution_count": 3,
   "id": "f014e950",
   "metadata": {},
   "outputs": [],
   "source": [
    "# Write online data to a new .csv\n",
    "def write_online_stats_to_csv(game_name, online_stats):\n",
    "    online_stats_data = {\n",
    "        \"name\" : f\"{game_name}\",\n",
    "        \"player_count\" : online_stats,\n",
    "        \"time\" : datetime.now().strftime(\"%Y-%m-%d %H:%M\")\n",
    "    }\n",
    "    file = Path('online_stats.csv')\n",
    "    df = pd.DataFrame([online_stats_data])\n",
    "    df.to_csv('online_stats.csv', index=False, mode='a', header=not file.exists(), quoting=csv.QUOTE_NONNUMERIC)"
   ]
  },
  {
   "cell_type": "code",
   "execution_count": 4,
   "id": "843dfca1",
   "metadata": {},
   "outputs": [],
   "source": [
    "# Find game name by appid from Kaggle dataset (https://www.kaggle.com/datasets/artermiloff/steam-games-dataset)\n",
    "def find_game_by_appid(name: str):\n",
    "    df = pd.read_csv(\"datasets/games_march2025_cleaned.csv\")\n",
    "    match = df[df['name'] == name]\n",
    "    if not match.empty:\n",
    "        url = f\"https://steamcommunity.com/app/{match.iloc[0]['appid']}\"\n",
    "    \n",
    "    game_name, online_stats = get_online_stats(url)\n",
    "    write_online_stats_to_csv(game_name, online_stats)"
   ]
  },
  {
   "cell_type": "code",
   "execution_count": 5,
   "id": "641d502b",
   "metadata": {},
   "outputs": [
    {
     "name": "stdout",
     "output_type": "stream",
     "text": [
      "Name: Counter-Strike 2, Online: 1130540\n",
      "               name  player_count              time\n",
      "0            Dota 2        360046  2025-05-05 11:58\n",
      "1  Counter-Strike 2       1016157  2025-05-05 12:05\n",
      "2  Counter-Strike 2       1168994  2025-05-06 21:02\n",
      "3  Counter-Strike 2       1171001  2025-05-06 21:11\n",
      "4  Counter-Strike 2       1172230  2025-05-06 21:16\n",
      "5  Counter-Strike 2       1130540  2025-05-06 22:00\n",
      "6  Counter-Strike 2       1130540  2025-05-06 22:03\n"
     ]
    }
   ],
   "source": [
    "# Lets do it for Counter-Strike 2\n",
    "find_game_by_appid(\"Counter-Strike 2\")\n",
    "df = pd.read_csv(\"online_stats.csv\")\n",
    "print(df)"
   ]
  },
  {
   "cell_type": "code",
   "execution_count": null,
   "id": "7efb3aa3",
   "metadata": {},
   "outputs": [
    {
     "name": "stdout",
     "output_type": "stream",
     "text": [
      "Name: Counter-Strike 2, Online: 1117033\n",
      "[2025-05-06 22:04:23.620425] 1 hour has passed\n"
     ]
    }
   ],
   "source": [
    "# Lets loop the code to run within 10 hours\n",
    "start_time = time.time()\n",
    "max_code_time = 10 * 60 * 60\n",
    "\n",
    "hour = 0\n",
    "while True:\n",
    "    delta_time = time.time() - start_time\n",
    "    if delta_time > max_code_time:\n",
    "        print(\"10 hours are up. Finishing the code\")\n",
    "        break\n",
    "    \n",
    "    find_game_by_appid(\"Counter-Strike 2\")\n",
    "    \n",
    "    hour += 1\n",
    "    print(f\"[{datetime.now()}] {hour} hour has passed\")\n",
    "    \n",
    "    time.sleep(3600)"
   ]
  },
  {
   "cell_type": "code",
   "execution_count": null,
   "id": "dfc26d3c",
   "metadata": {},
   "outputs": [],
   "source": [
    "# Now lets plot the graph of online \"Player Activity by Hour\""
   ]
  }
 ],
 "metadata": {
  "kernelspec": {
   "display_name": "venv",
   "language": "python",
   "name": "python3"
  },
  "language_info": {
   "codemirror_mode": {
    "name": "ipython",
    "version": 3
   },
   "file_extension": ".py",
   "mimetype": "text/x-python",
   "name": "python",
   "nbconvert_exporter": "python",
   "pygments_lexer": "ipython3",
   "version": "3.13.1"
  }
 },
 "nbformat": 4,
 "nbformat_minor": 5
}
